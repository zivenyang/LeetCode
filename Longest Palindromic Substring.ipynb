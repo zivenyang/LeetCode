{
 "cells": [
  {
   "cell_type": "markdown",
   "metadata": {},
   "source": [
    "### Description:\n",
    "⭐⭐⭐  \n",
    "Given a string **s**, find the longest palindromic substring in **s**. You may assume that the maximum length of **s** is 1000.\n",
    "\n",
    "**Example 1:**\n",
    "```\n",
    "Input: \"babad\"\n",
    "Output: \"bab\"\n",
    "Note: \"aba\" is also a valid answer.\n",
    "```\n",
    "**Example 2:**\n",
    "```\n",
    "Input: \"cbbd\"\n",
    "Output: \"bb\"\n",
    "```\n",
    "### My answer:\n",
    "考虑欠佳\n",
    "\n",
    "**Input:**    \n",
    "\"abb\"    \n",
    "**Output:**    \n",
    "\"b\"  \n",
    "**Expected:**    \n",
    "\"bb\"   "
   ]
  },
  {
   "cell_type": "code",
   "execution_count": null,
   "metadata": {
    "collapsed": true
   },
   "outputs": [],
   "source": [
    "class Solution:\n",
    "    def longestPalindrome(self, s):\n",
    "        \"\"\"\n",
    "        :type s: str\n",
    "        :rtype: str\n",
    "        \"\"\"\n",
    "        s_inv = s[::-1]\n",
    "        substr = []\n",
    "        longest = []\n",
    "        \n",
    "        for i in range(len(s)):\n",
    "            if s[i] == s_inv[i]:\n",
    "                substr.append(s[i])\n",
    "            elif len(substr) > len(longest):\n",
    "                    longest = substr\n",
    "                    substr = []\n",
    "            else:\n",
    "                substr = []\n",
    "        if len(substr) > len(longest):\n",
    "            longest = substr\n",
    "        if longest:\n",
    "            return \"\".join(longest)\n",
    "        else:\n",
    "            return s[-1]"
   ]
  },
  {
   "cell_type": "markdown",
   "metadata": {},
   "source": [
    "### Other answer:\n",
    "1. 最长"
   ]
  },
  {
   "cell_type": "code",
   "execution_count": null,
   "metadata": {
    "collapsed": true
   },
   "outputs": [],
   "source": [
    "class Solution:\n",
    "    def longestPalindrome(self, s):\n",
    "        \"\"\"\n",
    "        :type s: str\n",
    "        :rtype: str\n",
    "        \"\"\"\n",
    "        if len(s)==0:\n",
    "            return 0\n",
    "        maxLen=1 #最长回文的长度\n",
    "        start=0 #最长回文的起始坐标\n",
    "        for i in range(len(s)):\n",
    "            if i-maxLen >=1 and s[i-maxLen-1:i+1]==s[i-maxLen-1:i+1][::-1]:\n",
    "                start=i-maxLen-1\n",
    "                maxLen+=2\n",
    "                continue\n",
    "\n",
    "            if i-maxLen >=0 and s[i-maxLen:i+1]==s[i-maxLen:i+1][::-1]:\n",
    "                start=i-maxLen\n",
    "                maxLen+=1\n",
    "        return s[start:start+maxLen]"
   ]
  },
  {
   "cell_type": "code",
   "execution_count": null,
   "metadata": {
    "collapsed": true
   },
   "outputs": [],
   "source": [
    "class Solution(object):\n",
    "    def longestPalindrome(self, s):\n",
    "        \"\"\"\n",
    "        :type s: str\n",
    "        :rtype: str\n",
    "        \"\"\"\n",
    "        size = len(s)\n",
    "        if size <= 1 or s == s[::-1]:\n",
    "            return s\n",
    "        start, maxlen = 0, 1\n",
    "        for idx in range(1, size):\n",
    "            add2 = s[idx - maxlen - 1: idx + 1]\n",
    "            if idx - maxlen - 1 >= 0 and add2 == add2[::-1]:\n",
    "                start = idx - maxlen - 1\n",
    "                maxlen += 2\n",
    "                continue\n",
    "            add1 = s[idx - maxlen: idx + 1]\n",
    "            if add1 == add1[::-1]:\n",
    "                start = idx - maxlen\n",
    "                maxlen += 1\n",
    "        return s[start: (start + maxlen)]"
   ]
  }
 ],
 "metadata": {
  "kernelspec": {
   "display_name": "Python 3",
   "language": "python",
   "name": "python3"
  },
  "language_info": {
   "codemirror_mode": {
    "name": "ipython",
    "version": 3
   },
   "file_extension": ".py",
   "mimetype": "text/x-python",
   "name": "python",
   "nbconvert_exporter": "python",
   "pygments_lexer": "ipython3",
   "version": "3.6.3"
  }
 },
 "nbformat": 4,
 "nbformat_minor": 2
}
