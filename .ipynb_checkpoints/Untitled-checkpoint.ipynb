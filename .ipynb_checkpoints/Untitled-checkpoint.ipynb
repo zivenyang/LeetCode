{
 "cells": [
  {
   "cell_type": "markdown",
   "metadata": {},
   "source": [
    "### Description:\n",
    "Given a string, find the length of the **longest substring** without repeating characters.  \n",
    "**Examples:**  \n",
    "Given `\"abcabcbb\"`, the answer is `\"abc\"`, which the length is 3.  \n",
    "Given `\"bbbbb\"`, the answer is `\"b\"`, with the length of 1.  \n",
    "Given `\"pwwkew\"`, the answer is `\"wke\"`, with the length of 3. Note that the answer must be a **substring**, `\"pwke\"` is a subsequence and not a substring.\n",
    "\n",
    "### My answer:"
   ]
  },
  {
   "cell_type": "code",
   "execution_count": 1,
   "metadata": {
    "collapsed": true
   },
   "outputs": [],
   "source": [
    "class Solution:\n",
    "    def lengthOfLongestSubstring(self, s):\n",
    "        \"\"\"\n",
    "        :type s: str\n",
    "        :rtype: int\n",
    "        \"\"\"\n",
    "        empty = []\n",
    "        result = []\n",
    "        for alpha in s:\n",
    "            if alpha not in empty:\n",
    "                empty.append(alpha)\n",
    "                result.append(len(empty))\n",
    "            else:\n",
    "                result.append(len(empty))\n",
    "                for i in range(len(empty)):\n",
    "                    if empty[i] == alpha:\n",
    "                        empty = empty[i + 1:]\n",
    "                        break\n",
    "                empty.append(alpha)\n",
    "\n",
    "        if result:\n",
    "            len_sub = max(result)\n",
    "        else:\n",
    "            len_sub = 0\n",
    "        return len_sub"
   ]
  },
  {
   "cell_type": "markdown",
   "metadata": {},
   "source": [
    "### Other answer:\n",
    "1. `enumerate`函数，用于生成**(id,val)**对\n",
    "2. 只使用了一个字典进行存储\n",
    "3. 使用指针`L`,`R`判断新旧坐标，并记录最长长度`res`"
   ]
  },
  {
   "cell_type": "code",
   "execution_count": 3,
   "metadata": {
    "collapsed": true
   },
   "outputs": [],
   "source": [
    "class Solution:\n",
    "    def lengthOfLongestSubstring(self, s):\n",
    "        \"\"\"\n",
    "        :type s: str\n",
    "        :rtype: int\n",
    "        \"\"\"\n",
    "        L, res, last = -1, 0, {}\n",
    "        for R, char in enumerate(s):\n",
    "            if char in last and last[char] > L:\n",
    "                L = last[char]\n",
    "            elif R-L > res:\n",
    "                res = R-L\n",
    "            last[char] = R\n",
    "        return res"
   ]
  }
 ],
 "metadata": {
  "kernelspec": {
   "display_name": "Python 3",
   "language": "python",
   "name": "python3"
  },
  "language_info": {
   "codemirror_mode": {
    "name": "ipython",
    "version": 3
   },
   "file_extension": ".py",
   "mimetype": "text/x-python",
   "name": "python",
   "nbconvert_exporter": "python",
   "pygments_lexer": "ipython3",
   "version": "3.6.3"
  }
 },
 "nbformat": 4,
 "nbformat_minor": 2
}
