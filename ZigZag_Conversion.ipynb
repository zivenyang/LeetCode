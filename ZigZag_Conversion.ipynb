{
 "cells": [
  {
   "cell_type": "markdown",
   "metadata": {},
   "source": [
    "### Description:\n",
    "The string `\"PAYPALISHIRING\"` is written in a zigzag pattern on a given number of rows like this: (you may want to display this pattern in a fixed font for better legibility)\n",
    "\n",
    "```\n",
    "P   A   H   N\n",
    "A P L S I I G\n",
    "Y   I   R\n",
    "```\n",
    "And then read line by line: `\"PAHNAPLSIIGYIR\"`   \n",
    "\n",
    "Write the code that will take a string and make this conversion given a number of rows:   \n",
    "```\n",
    "string convert(string s, int numRows);\n",
    "```\n",
    "**Example 1:**\n",
    "```\n",
    "Input: s = \"PAYPALISHIRING\", numRows = 3\n",
    "Output: \"PAHNAPLSIIGYIR\"\n",
    "\n",
    "P   A   H   N\n",
    "A P L S I I G\n",
    "Y   I   R\n",
    "```\n",
    "**Example 2:**\n",
    "\n",
    "```\n",
    "Input: s = \"PAYPALISHIRING\", numRows = 4\n",
    "Output: \"PINALSIGYAHRPI\"\n",
    "Explanation:\n",
    "\n",
    "P     I    N\n",
    "A   L S  I G\n",
    "Y A   H R\n",
    "P     I\n",
    "```\n",
    "### My answer:\n",
    "```\n",
    "|0    |6\n",
    "|1  5 |7\n",
    "|2 4  |8\n",
    "|3    |\n",
    "|<-n->|\n",
    "\n",
    "0+6 = 1+5 = 2+4 = n = 2*numRows-2\n",
    "```"
   ]
  },
  {
   "cell_type": "code",
   "execution_count": 23,
   "metadata": {
    "collapsed": true
   },
   "outputs": [],
   "source": [
    "class Solution:\n",
    "    def convert(self, s, numRows):\n",
    "        \"\"\"\n",
    "        :type s: str\n",
    "        :type numRows: int\n",
    "        :rtype: str\n",
    "        \"\"\"\n",
    "        output = \"\"\n",
    "        if numRows <= 1:\n",
    "            return s\n",
    "        n = 2 * numRows - 2\n",
    "        size = len(s)\n",
    "        for i in range(numRows):\n",
    "            flag = 0\n",
    "            for j in range(i, size, n):\n",
    "                output += s[j]\n",
    "                second_j = ( 2 * flag + 1 ) * n - j\n",
    "                if i != 0 and i != numRows-1 and second_j < size:\n",
    "                    output += s[second_j]\n",
    "                    flag += 1\n",
    "        return output"
   ]
  },
  {
   "cell_type": "markdown",
   "metadata": {},
   "source": [
    "### Other answer:"
   ]
  },
  {
   "cell_type": "code",
   "execution_count": 28,
   "metadata": {},
   "outputs": [],
   "source": [
    "class Solution(object):\n",
    "    def convert(self, s, numRows):\n",
    "        \"\"\"\n",
    "        :type s: str\n",
    "        :type numRows: int\n",
    "        :rtype: str\n",
    "        \"\"\"\n",
    "        if numRows == 1:\n",
    "            return s\n",
    "        zigzag = ['' for i in range(numRows)] \n",
    "        row = 0                                \n",
    "        step = 1                              \n",
    "        for c in s:\n",
    "            if row == 0:\n",
    "                step = 1\n",
    "            if row == numRows - 1:\n",
    "                step = -1\n",
    "            zigzag[row] += c\n",
    "            print(zigzag)\n",
    "            row += step\n",
    "        return ''.join(zigzag)"
   ]
  },
  {
   "cell_type": "code",
   "execution_count": 29,
   "metadata": {},
   "outputs": [
    {
     "name": "stdout",
     "output_type": "stream",
     "text": [
      "['0', '', '', '']\n",
      "['0', '1', '', '']\n",
      "['0', '1', '2', '']\n",
      "['0', '1', '2', '3']\n",
      "['0', '1', '24', '3']\n",
      "['0', '15', '24', '3']\n",
      "['06', '15', '24', '3']\n",
      "['06', '157', '24', '3']\n",
      "['06', '157', '248', '3']\n"
     ]
    },
    {
     "data": {
      "text/plain": [
       "'061572483'"
      ]
     },
     "execution_count": 29,
     "metadata": {},
     "output_type": "execute_result"
    }
   ],
   "source": [
    "Solution().convert(s=\"012345678\", numRows=4)"
   ]
  },
  {
   "cell_type": "code",
   "execution_count": null,
   "metadata": {
    "collapsed": true
   },
   "outputs": [],
   "source": []
  }
 ],
 "metadata": {
  "kernelspec": {
   "display_name": "Python 3",
   "language": "python",
   "name": "python3"
  },
  "language_info": {
   "codemirror_mode": {
    "name": "ipython",
    "version": 3
   },
   "file_extension": ".py",
   "mimetype": "text/x-python",
   "name": "python",
   "nbconvert_exporter": "python",
   "pygments_lexer": "ipython3",
   "version": "3.6.3"
  }
 },
 "nbformat": 4,
 "nbformat_minor": 2
}
